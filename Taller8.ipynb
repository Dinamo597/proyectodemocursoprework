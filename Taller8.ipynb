{
  "nbformat": 4,
  "nbformat_minor": 0,
  "metadata": {
    "colab": {
      "provenance": [],
      "authorship_tag": "ABX9TyMmuYwqZkMX8WMWNBjAOEcS"
    },
    "kernelspec": {
      "name": "python3",
      "display_name": "Python 3"
    },
    "language_info": {
      "name": "python"
    }
  },
  "cells": [
    {
      "cell_type": "code",
      "execution_count": null,
      "metadata": {
        "id": "ehkL-U4y9bEm"
      },
      "outputs": [],
      "source": [
        "numero=int(input(\"Ingrese un numero en base 10: \"))\n",
        "print(f\"eL numero {numero} en base 16 es {hex(numero)[2:].upper()}\")"
      ]
    },
    {
      "cell_type": "code",
      "source": [
        "try:\n",
        "   num=input(\"Ingrese un numero en base 8: \")\n",
        "   decimal=int(num, 8)\n",
        "   print(\"El numero {num} en base 8 {decimal}  en base 10 es:\")\n",
        "except ValueError:\n",
        "  print(\"el número ingresado no es válido.\")\n"
      ],
      "metadata": {
        "id": "rlV_UATF9vP4"
      },
      "execution_count": null,
      "outputs": []
    }
  ]
}